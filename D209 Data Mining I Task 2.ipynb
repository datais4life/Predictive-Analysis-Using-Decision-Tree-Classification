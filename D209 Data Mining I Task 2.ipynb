{
 "cells": [
  {
   "cell_type": "markdown",
   "id": "5445ff1b",
   "metadata": {},
   "source": [
    "# WGU D209: Data Mining I\n",
    "## Task 2: Predctive Analysis"
   ]
  },
  {
   "cell_type": "markdown",
   "id": "6c9d5c3d",
   "metadata": {},
   "source": [
    "### Data Acquisition"
   ]
  },
  {
   "cell_type": "code",
   "execution_count": 1,
   "id": "b3611500",
   "metadata": {},
   "outputs": [
    {
     "name": "stdout",
     "output_type": "stream",
     "text": [
      "no display found. Using non-interactive Agg backend\n"
     ]
    }
   ],
   "source": [
    "# Import the standard libraries.\n",
    "\n",
    "import sys\n",
    "import pandas as pd\n",
    "import numpy as np\n",
    "import scipy\n",
    "import scipy.stats as stats\n",
    "import seaborn as sns\n",
    "import matplotlib\n",
    "import matplotlib.pylab as plt\n",
    "import pydotplus\n",
    "import graphviz\n",
    "from IPython.display import Image\n",
    "from PIL import Image as bmp\n",
    "import six\n",
    "sys.modules['sklearn.externals.six'] = six\n",
    "\n",
    "# Import plotDecisionTree\n",
    "from dmba import plotDecisionTree, classificationSummary"
   ]
  },
  {
   "cell_type": "code",
   "execution_count": null,
   "id": "20c9841d",
   "metadata": {},
   "outputs": [],
   "source": []
  },
  {
   "cell_type": "code",
   "execution_count": 2,
   "id": "4c4c4f9b",
   "metadata": {},
   "outputs": [],
   "source": [
    "# Import Scikit-learn.\n",
    "\n",
    "import sklearn\n",
    "from sklearn.metrics import confusion_matrix\n",
    "from sklearn.metrics import classification_report\n",
    "from sklearn import metrics, tree\n",
    "from sklearn.model_selection import train_test_split\n",
    "from sklearn.metrics import accuracy_score\n",
    "from io import StringIO\n",
    "from sklearn.model_selection import train_test_split\n",
    "from sklearn.tree import DecisionTreeClassifier\n",
    "from sklearn.tree import export_graphviz as dt # decisiontree"
   ]
  },
  {
   "cell_type": "markdown",
   "id": "9375fa1c",
   "metadata": {},
   "source": [
    "#### Disabling the scrollbars in Jupyter Notebook and automatic scroll to the bottom."
   ]
  },
  {
   "cell_type": "code",
   "execution_count": 3,
   "id": "20ca63fd",
   "metadata": {},
   "outputs": [
    {
     "data": {
      "application/javascript": [
       "IPython.OutputArea.prototype._should_scroll = function(lines) {\n",
       "    return false;\n",
       "}\n"
      ],
      "text/plain": [
       "<IPython.core.display.Javascript object>"
      ]
     },
     "metadata": {},
     "output_type": "display_data"
    }
   ],
   "source": [
    "%%javascript\n",
    "IPython.OutputArea.prototype._should_scroll = function(lines) {\n",
    "    return false;\n",
    "}"
   ]
  },
  {
   "cell_type": "code",
   "execution_count": 4,
   "id": "96e668c3",
   "metadata": {},
   "outputs": [
    {
     "data": {
      "application/javascript": [
       "require(\"notebook/js/notebook\").Notebook.prototype.scroll_to_bottom = function () {}\n"
      ],
      "text/plain": [
       "<IPython.core.display.Javascript object>"
      ]
     },
     "metadata": {},
     "output_type": "display_data"
    }
   ],
   "source": [
    "%%javascript\n",
    "require(\"notebook/js/notebook\").Notebook.prototype.scroll_to_bottom = function () {}"
   ]
  },
  {
   "cell_type": "code",
   "execution_count": 5,
   "id": "0a0e41bb",
   "metadata": {},
   "outputs": [
    {
     "data": {
      "text/html": [
       "<script>\n",
       "code_show_err=false; \n",
       "function code_toggle_err() {\n",
       " if (code_show_err){\n",
       " $('div.output_stderr').hide();\n",
       " } else {\n",
       " $('div.output_stderr').show();\n",
       " }\n",
       " code_show_err = !code_show_err\n",
       "} \n",
       "$( document ).ready(code_toggle_err);\n",
       "</script>\n",
       "To toggle on/off output_stderr, click <a href=\"javascript:code_toggle_err()\">here</a>."
      ],
      "text/plain": [
       "<IPython.core.display.HTML object>"
      ]
     },
     "execution_count": 5,
     "metadata": {},
     "output_type": "execute_result"
    }
   ],
   "source": [
    "from IPython.display import HTML\n",
    "HTML('''<script>\n",
    "code_show_err=false; \n",
    "function code_toggle_err() {\n",
    " if (code_show_err){\n",
    " $('div.output_stderr').hide();\n",
    " } else {\n",
    " $('div.output_stderr').show();\n",
    " }\n",
    " code_show_err = !code_show_err\n",
    "} \n",
    "$( document ).ready(code_toggle_err);\n",
    "</script>\n",
    "To toggle on/off output_stderr, click <a href=\"javascript:code_toggle_err()\">here</a>.''')"
   ]
  },
  {
   "cell_type": "code",
   "execution_count": 6,
   "id": "a88301c5",
   "metadata": {},
   "outputs": [
    {
     "data": {
      "text/html": [
       "<div>\n",
       "<style scoped>\n",
       "    .dataframe tbody tr th:only-of-type {\n",
       "        vertical-align: middle;\n",
       "    }\n",
       "\n",
       "    .dataframe tbody tr th {\n",
       "        vertical-align: top;\n",
       "    }\n",
       "\n",
       "    .dataframe thead th {\n",
       "        text-align: right;\n",
       "    }\n",
       "</style>\n",
       "<table border=\"1\" class=\"dataframe\">\n",
       "  <thead>\n",
       "    <tr style=\"text-align: right;\">\n",
       "      <th></th>\n",
       "      <th>CaseOrder</th>\n",
       "      <th>Customer_id</th>\n",
       "      <th>Interaction</th>\n",
       "      <th>UID</th>\n",
       "      <th>City</th>\n",
       "      <th>State</th>\n",
       "      <th>County</th>\n",
       "      <th>Zip</th>\n",
       "      <th>Lat</th>\n",
       "      <th>Lng</th>\n",
       "      <th>...</th>\n",
       "      <th>MonthlyCharge</th>\n",
       "      <th>Bandwidth_GB_Year</th>\n",
       "      <th>Item1</th>\n",
       "      <th>Item2</th>\n",
       "      <th>Item3</th>\n",
       "      <th>Item4</th>\n",
       "      <th>Item5</th>\n",
       "      <th>Item6</th>\n",
       "      <th>Item7</th>\n",
       "      <th>Item8</th>\n",
       "    </tr>\n",
       "  </thead>\n",
       "  <tbody>\n",
       "    <tr>\n",
       "      <th>0</th>\n",
       "      <td>1</td>\n",
       "      <td>K409198</td>\n",
       "      <td>aa90260b-4141-4a24-8e36-b04ce1f4f77b</td>\n",
       "      <td>e885b299883d4f9fb18e39c75155d990</td>\n",
       "      <td>Point Baker</td>\n",
       "      <td>AK</td>\n",
       "      <td>Prince of Wales-Hyder</td>\n",
       "      <td>99927</td>\n",
       "      <td>56.25100</td>\n",
       "      <td>-133.37571</td>\n",
       "      <td>...</td>\n",
       "      <td>172.455519</td>\n",
       "      <td>904.536110</td>\n",
       "      <td>5</td>\n",
       "      <td>5</td>\n",
       "      <td>5</td>\n",
       "      <td>3</td>\n",
       "      <td>4</td>\n",
       "      <td>4</td>\n",
       "      <td>3</td>\n",
       "      <td>4</td>\n",
       "    </tr>\n",
       "    <tr>\n",
       "      <th>1</th>\n",
       "      <td>2</td>\n",
       "      <td>S120509</td>\n",
       "      <td>fb76459f-c047-4a9d-8af9-e0f7d4ac2524</td>\n",
       "      <td>f2de8bef964785f41a2959829830fb8a</td>\n",
       "      <td>West Branch</td>\n",
       "      <td>MI</td>\n",
       "      <td>Ogemaw</td>\n",
       "      <td>48661</td>\n",
       "      <td>44.32893</td>\n",
       "      <td>-84.24080</td>\n",
       "      <td>...</td>\n",
       "      <td>242.632554</td>\n",
       "      <td>800.982766</td>\n",
       "      <td>3</td>\n",
       "      <td>4</td>\n",
       "      <td>3</td>\n",
       "      <td>3</td>\n",
       "      <td>4</td>\n",
       "      <td>3</td>\n",
       "      <td>4</td>\n",
       "      <td>4</td>\n",
       "    </tr>\n",
       "    <tr>\n",
       "      <th>2</th>\n",
       "      <td>3</td>\n",
       "      <td>K191035</td>\n",
       "      <td>344d114c-3736-4be5-98f7-c72c281e2d35</td>\n",
       "      <td>f1784cfa9f6d92ae816197eb175d3c71</td>\n",
       "      <td>Yamhill</td>\n",
       "      <td>OR</td>\n",
       "      <td>Yamhill</td>\n",
       "      <td>97148</td>\n",
       "      <td>45.35589</td>\n",
       "      <td>-123.24657</td>\n",
       "      <td>...</td>\n",
       "      <td>159.947583</td>\n",
       "      <td>2054.706961</td>\n",
       "      <td>4</td>\n",
       "      <td>4</td>\n",
       "      <td>2</td>\n",
       "      <td>4</td>\n",
       "      <td>4</td>\n",
       "      <td>3</td>\n",
       "      <td>3</td>\n",
       "      <td>3</td>\n",
       "    </tr>\n",
       "    <tr>\n",
       "      <th>3</th>\n",
       "      <td>4</td>\n",
       "      <td>D90850</td>\n",
       "      <td>abfa2b40-2d43-4994-b15a-989b8c79e311</td>\n",
       "      <td>dc8a365077241bb5cd5ccd305136b05e</td>\n",
       "      <td>Del Mar</td>\n",
       "      <td>CA</td>\n",
       "      <td>San Diego</td>\n",
       "      <td>92014</td>\n",
       "      <td>32.96687</td>\n",
       "      <td>-117.24798</td>\n",
       "      <td>...</td>\n",
       "      <td>119.956840</td>\n",
       "      <td>2164.579412</td>\n",
       "      <td>4</td>\n",
       "      <td>4</td>\n",
       "      <td>4</td>\n",
       "      <td>2</td>\n",
       "      <td>5</td>\n",
       "      <td>4</td>\n",
       "      <td>3</td>\n",
       "      <td>3</td>\n",
       "    </tr>\n",
       "    <tr>\n",
       "      <th>4</th>\n",
       "      <td>5</td>\n",
       "      <td>K662701</td>\n",
       "      <td>68a861fd-0d20-4e51-a587-8a90407ee574</td>\n",
       "      <td>aabb64a116e83fdc4befc1fbab1663f9</td>\n",
       "      <td>Needville</td>\n",
       "      <td>TX</td>\n",
       "      <td>Fort Bend</td>\n",
       "      <td>77461</td>\n",
       "      <td>29.38012</td>\n",
       "      <td>-95.80673</td>\n",
       "      <td>...</td>\n",
       "      <td>149.948316</td>\n",
       "      <td>271.493436</td>\n",
       "      <td>4</td>\n",
       "      <td>4</td>\n",
       "      <td>4</td>\n",
       "      <td>3</td>\n",
       "      <td>4</td>\n",
       "      <td>4</td>\n",
       "      <td>4</td>\n",
       "      <td>5</td>\n",
       "    </tr>\n",
       "  </tbody>\n",
       "</table>\n",
       "<p>5 rows × 50 columns</p>\n",
       "</div>"
      ],
      "text/plain": [
       "   CaseOrder Customer_id                           Interaction  \\\n",
       "0          1     K409198  aa90260b-4141-4a24-8e36-b04ce1f4f77b   \n",
       "1          2     S120509  fb76459f-c047-4a9d-8af9-e0f7d4ac2524   \n",
       "2          3     K191035  344d114c-3736-4be5-98f7-c72c281e2d35   \n",
       "3          4      D90850  abfa2b40-2d43-4994-b15a-989b8c79e311   \n",
       "4          5     K662701  68a861fd-0d20-4e51-a587-8a90407ee574   \n",
       "\n",
       "                                UID         City State                 County  \\\n",
       "0  e885b299883d4f9fb18e39c75155d990  Point Baker    AK  Prince of Wales-Hyder   \n",
       "1  f2de8bef964785f41a2959829830fb8a  West Branch    MI                 Ogemaw   \n",
       "2  f1784cfa9f6d92ae816197eb175d3c71      Yamhill    OR                Yamhill   \n",
       "3  dc8a365077241bb5cd5ccd305136b05e      Del Mar    CA              San Diego   \n",
       "4  aabb64a116e83fdc4befc1fbab1663f9    Needville    TX              Fort Bend   \n",
       "\n",
       "     Zip       Lat        Lng  ...  MonthlyCharge Bandwidth_GB_Year Item1  \\\n",
       "0  99927  56.25100 -133.37571  ...     172.455519        904.536110     5   \n",
       "1  48661  44.32893  -84.24080  ...     242.632554        800.982766     3   \n",
       "2  97148  45.35589 -123.24657  ...     159.947583       2054.706961     4   \n",
       "3  92014  32.96687 -117.24798  ...     119.956840       2164.579412     4   \n",
       "4  77461  29.38012  -95.80673  ...     149.948316        271.493436     4   \n",
       "\n",
       "  Item2  Item3  Item4  Item5 Item6 Item7 Item8  \n",
       "0     5      5      3      4     4     3     4  \n",
       "1     4      3      3      4     3     4     4  \n",
       "2     4      2      4      4     3     3     3  \n",
       "3     4      4      2      5     4     3     3  \n",
       "4     4      4      3      4     4     4     5  \n",
       "\n",
       "[5 rows x 50 columns]"
      ]
     },
     "execution_count": 6,
     "metadata": {},
     "output_type": "execute_result"
    }
   ],
   "source": [
    "# Load the CSV file.\n",
    "df = pd.read_csv('/Users/jillrivera/Documents/WGU/209 Data Mining I/Churn/churn_clean.csv')\n",
    "df.head()"
   ]
  },
  {
   "cell_type": "code",
   "execution_count": 7,
   "id": "6258fa18",
   "metadata": {},
   "outputs": [
    {
     "data": {
      "text/plain": [
       "Index(['CaseOrder', 'Customer_id', 'Interaction', 'UID', 'City', 'State',\n",
       "       'County', 'Zip', 'Lat', 'Lng', 'Population', 'Area', 'TimeZone', 'Job',\n",
       "       'Children', 'Age', 'Income', 'Marital', 'Gender', 'Churn',\n",
       "       'Outage_sec_perweek', 'Email', 'Contacts', 'Yearly_equip_failure',\n",
       "       'Techie', 'Contract', 'Port_modem', 'Tablet', 'InternetService',\n",
       "       'Phone', 'Multiple', 'OnlineSecurity', 'OnlineBackup',\n",
       "       'DeviceProtection', 'TechSupport', 'StreamingTV', 'StreamingMovies',\n",
       "       'PaperlessBilling', 'PaymentMethod', 'Tenure', 'MonthlyCharge',\n",
       "       'Bandwidth_GB_Year', 'Item1', 'Item2', 'Item3', 'Item4', 'Item5',\n",
       "       'Item6', 'Item7', 'Item8'],\n",
       "      dtype='object')"
      ]
     },
     "execution_count": 7,
     "metadata": {},
     "output_type": "execute_result"
    }
   ],
   "source": [
    "df.columns"
   ]
  },
  {
   "cell_type": "code",
   "execution_count": 8,
   "id": "b62c84c7",
   "metadata": {},
   "outputs": [
    {
     "data": {
      "text/plain": [
       "(10000, 50)"
      ]
     },
     "execution_count": 8,
     "metadata": {},
     "output_type": "execute_result"
    }
   ],
   "source": [
    "df.shape"
   ]
  },
  {
   "cell_type": "markdown",
   "id": "05f87b35",
   "metadata": {},
   "source": [
    "### Data Cleaning"
   ]
  },
  {
   "cell_type": "code",
   "execution_count": 9,
   "id": "a972b69b",
   "metadata": {},
   "outputs": [
    {
     "data": {
      "text/plain": [
       "(10000, 37)"
      ]
     },
     "execution_count": 9,
     "metadata": {},
     "output_type": "execute_result"
    }
   ],
   "source": [
    "# Dropping irrelevant data.\n",
    "df = df.drop(columns = ['CaseOrder', 'UID', 'Customer_id', 'Interaction', 'City', 'State', 'County', 'Zip',\n",
    "                       'Lat', 'Lng', 'Job', 'TimeZone', 'Population'])\n",
    "df.shape"
   ]
  },
  {
   "cell_type": "code",
   "execution_count": 10,
   "id": "0a4648ab",
   "metadata": {},
   "outputs": [
    {
     "name": "stdout",
     "output_type": "stream",
     "text": [
      "\n",
      "Area is categorical: ['Urban' 'Suburban' 'Rural'].\n",
      "\n",
      "Children is numerical:\n",
      "\trange = 0 - 10\n",
      "\tmean = 2.09 +/- 2.15\n",
      "\n",
      "Age is numerical:\n",
      "\trange = 18 - 89\n",
      "\tmean = 53.08 +/- 20.70\n",
      "\n",
      "Income is numerical:\n",
      "\trange = 348.67 - 258900.7\n",
      "\tmean = 39806.93 +/- 28199.92\n",
      "\n",
      "Marital is categorical: ['Widowed' 'Married' 'Separated' 'Never Married' 'Divorced'].\n",
      "\n",
      "Gender is categorical: ['Male' 'Female' 'Nonbinary'].\n",
      "\n",
      "Churn is categorical: ['No' 'Yes'].\n",
      "\n",
      "Outage_sec_perweek is numerical:\n",
      "\trange = 0.09974694 - 21.20723\n",
      "\tmean = 10.00 +/- 2.98\n",
      "\n",
      "Email is numerical:\n",
      "\trange = 1 - 23\n",
      "\tmean = 12.02 +/- 3.03\n",
      "\n",
      "Contacts is numerical:\n",
      "\trange = 0 - 7\n",
      "\tmean = 0.99 +/- 0.99\n",
      "\n",
      "Yearly_equip_failure is numerical:\n",
      "\trange = 0 - 6\n",
      "\tmean = 0.40 +/- 0.64\n",
      "\n",
      "Techie is categorical: ['No' 'Yes'].\n",
      "\n",
      "Contract is categorical: ['One year' 'Month-to-month' 'Two Year'].\n",
      "\n",
      "Port_modem is categorical: ['Yes' 'No'].\n",
      "\n",
      "Tablet is categorical: ['Yes' 'No'].\n",
      "\n",
      "InternetService is categorical: ['Fiber Optic' 'DSL' 'None'].\n",
      "\n",
      "Phone is categorical: ['Yes' 'No'].\n",
      "\n",
      "Multiple is categorical: ['No' 'Yes'].\n",
      "\n",
      "OnlineSecurity is categorical: ['Yes' 'No'].\n",
      "\n",
      "OnlineBackup is categorical: ['Yes' 'No'].\n",
      "\n",
      "DeviceProtection is categorical: ['No' 'Yes'].\n",
      "\n",
      "TechSupport is categorical: ['No' 'Yes'].\n",
      "\n",
      "StreamingTV is categorical: ['No' 'Yes'].\n",
      "\n",
      "StreamingMovies is categorical: ['Yes' 'No'].\n",
      "\n",
      "PaperlessBilling is categorical: ['Yes' 'No'].\n",
      "\n",
      "PaymentMethod is categorical: ['Credit Card (automatic)' 'Bank Transfer(automatic)' 'Mailed Check'\n",
      " 'Electronic Check'].\n",
      "\n",
      "Tenure is numerical:\n",
      "\trange = 1.00025934 - 71.99928\n",
      "\tmean = 34.53 +/- 26.44\n",
      "\n",
      "MonthlyCharge is numerical:\n",
      "\trange = 79.97886 - 290.160419\n",
      "\tmean = 172.62 +/- 42.94\n",
      "\n",
      "Bandwidth_GB_Year is numerical:\n",
      "\trange = 155.5067148 - 7158.98153\n",
      "\tmean = 3392.34 +/- 2185.29\n",
      "\n",
      "Item1 is numerical:\n",
      "\trange = 1 - 7\n",
      "\tmean = 3.49 +/- 1.04\n",
      "\n",
      "Item2 is numerical:\n",
      "\trange = 1 - 7\n",
      "\tmean = 3.51 +/- 1.03\n",
      "\n",
      "Item3 is numerical:\n",
      "\trange = 1 - 8\n",
      "\tmean = 3.49 +/- 1.03\n",
      "\n",
      "Item4 is numerical:\n",
      "\trange = 1 - 7\n",
      "\tmean = 3.50 +/- 1.03\n",
      "\n",
      "Item5 is numerical:\n",
      "\trange = 1 - 7\n",
      "\tmean = 3.49 +/- 1.02\n",
      "\n",
      "Item6 is numerical:\n",
      "\trange = 1 - 8\n",
      "\tmean = 3.50 +/- 1.03\n",
      "\n",
      "Item7 is numerical:\n",
      "\trange = 1 - 7\n",
      "\tmean = 3.51 +/- 1.03\n",
      "\n",
      "Item8 is numerical:\n",
      "\trange = 1 - 8\n",
      "\tmean = 3.50 +/- 1.03\n"
     ]
    }
   ],
   "source": [
    "# Show the variables to be analyzed.\n",
    "\n",
    "for c in df.loc[:, df.columns]:\n",
    "    if df.dtypes[c] == \"object\":\n",
    "        print('\\n{} is categorical: {}.'.format(c,df[c].unique()))\n",
    "    else:\n",
    "        print('\\n{} is numerical:'.format(c ))\n",
    "        print('\\trange = {} - {}'.format(df[c].min(),df[c].max()))\n",
    "        print('\\tmean = {:.2f} +/- {:.2f}'.format(df[c].mean(), df[c].std()))"
   ]
  },
  {
   "cell_type": "code",
   "execution_count": 11,
   "id": "77e8a514",
   "metadata": {},
   "outputs": [
    {
     "data": {
      "text/plain": [
       "Area                    0\n",
       "Children                0\n",
       "Age                     0\n",
       "Income                  0\n",
       "Marital                 0\n",
       "Gender                  0\n",
       "Churn                   0\n",
       "Outage_sec_perweek      0\n",
       "Email                   0\n",
       "Contacts                0\n",
       "Yearly_equip_failure    0\n",
       "Techie                  0\n",
       "Contract                0\n",
       "Port_modem              0\n",
       "Tablet                  0\n",
       "InternetService         0\n",
       "Phone                   0\n",
       "Multiple                0\n",
       "OnlineSecurity          0\n",
       "OnlineBackup            0\n",
       "DeviceProtection        0\n",
       "TechSupport             0\n",
       "StreamingTV             0\n",
       "StreamingMovies         0\n",
       "PaperlessBilling        0\n",
       "PaymentMethod           0\n",
       "Tenure                  0\n",
       "MonthlyCharge           0\n",
       "Bandwidth_GB_Year       0\n",
       "Item1                   0\n",
       "Item2                   0\n",
       "Item3                   0\n",
       "Item4                   0\n",
       "Item5                   0\n",
       "Item6                   0\n",
       "Item7                   0\n",
       "Item8                   0\n",
       "dtype: int64"
      ]
     },
     "execution_count": 11,
     "metadata": {},
     "output_type": "execute_result"
    }
   ],
   "source": [
    "# Check for null values.\n",
    "df.isnull().sum()"
   ]
  },
  {
   "cell_type": "code",
   "execution_count": 12,
   "id": "7d42ba14",
   "metadata": {},
   "outputs": [
    {
     "data": {
      "text/plain": [
       "False"
      ]
     },
     "execution_count": 12,
     "metadata": {},
     "output_type": "execute_result"
    }
   ],
   "source": [
    "# Check for duplicated rows.\n",
    "df.duplicated().any()"
   ]
  },
  {
   "cell_type": "code",
   "execution_count": 13,
   "id": "a82dc108",
   "metadata": {},
   "outputs": [
    {
     "data": {
      "text/plain": [
       "(9291, 37)"
      ]
     },
     "execution_count": 13,
     "metadata": {},
     "output_type": "execute_result"
    }
   ],
   "source": [
    "# Check for outlying values in the numerical data using z-score.\n",
    "\n",
    "raw_numerical = df.select_dtypes(exclude = 'object')\n",
    "z_scores = stats.zscore(raw_numerical)\n",
    "abs_z_scores = np.abs(z_scores)\n",
    "filtered_scores = (abs_z_scores < 3).all(axis = 1)\n",
    "raw_wo_outliers = df[filtered_scores]\n",
    "raw_wo_outliers.shape"
   ]
  },
  {
   "cell_type": "code",
   "execution_count": 14,
   "id": "11e7ed0b",
   "metadata": {},
   "outputs": [
    {
     "data": {
      "text/html": [
       "<div>\n",
       "<style scoped>\n",
       "    .dataframe tbody tr th:only-of-type {\n",
       "        vertical-align: middle;\n",
       "    }\n",
       "\n",
       "    .dataframe tbody tr th {\n",
       "        vertical-align: top;\n",
       "    }\n",
       "\n",
       "    .dataframe thead th {\n",
       "        text-align: right;\n",
       "    }\n",
       "</style>\n",
       "<table border=\"1\" class=\"dataframe\">\n",
       "  <thead>\n",
       "    <tr style=\"text-align: right;\">\n",
       "      <th></th>\n",
       "      <th>Area</th>\n",
       "      <th>Children</th>\n",
       "      <th>Age</th>\n",
       "      <th>Income</th>\n",
       "      <th>Marital</th>\n",
       "      <th>Gender</th>\n",
       "      <th>Churn</th>\n",
       "      <th>Outage_sec_perweek</th>\n",
       "      <th>Email</th>\n",
       "      <th>Contacts</th>\n",
       "      <th>...</th>\n",
       "      <th>MonthlyCharge</th>\n",
       "      <th>Bandwidth_GB_Year</th>\n",
       "      <th>Item1</th>\n",
       "      <th>Item2</th>\n",
       "      <th>Item3</th>\n",
       "      <th>Item4</th>\n",
       "      <th>Item5</th>\n",
       "      <th>Item6</th>\n",
       "      <th>Item7</th>\n",
       "      <th>Item8</th>\n",
       "    </tr>\n",
       "  </thead>\n",
       "  <tbody>\n",
       "    <tr>\n",
       "      <th>0</th>\n",
       "      <td>Urban</td>\n",
       "      <td>0</td>\n",
       "      <td>68</td>\n",
       "      <td>28561.99</td>\n",
       "      <td>Widowed</td>\n",
       "      <td>Male</td>\n",
       "      <td>No</td>\n",
       "      <td>7.978323</td>\n",
       "      <td>10</td>\n",
       "      <td>0</td>\n",
       "      <td>...</td>\n",
       "      <td>172.455519</td>\n",
       "      <td>904.536110</td>\n",
       "      <td>5</td>\n",
       "      <td>5</td>\n",
       "      <td>5</td>\n",
       "      <td>3</td>\n",
       "      <td>4</td>\n",
       "      <td>4</td>\n",
       "      <td>3</td>\n",
       "      <td>4</td>\n",
       "    </tr>\n",
       "    <tr>\n",
       "      <th>1</th>\n",
       "      <td>Urban</td>\n",
       "      <td>1</td>\n",
       "      <td>27</td>\n",
       "      <td>21704.77</td>\n",
       "      <td>Married</td>\n",
       "      <td>Female</td>\n",
       "      <td>Yes</td>\n",
       "      <td>11.699080</td>\n",
       "      <td>12</td>\n",
       "      <td>0</td>\n",
       "      <td>...</td>\n",
       "      <td>242.632554</td>\n",
       "      <td>800.982766</td>\n",
       "      <td>3</td>\n",
       "      <td>4</td>\n",
       "      <td>3</td>\n",
       "      <td>3</td>\n",
       "      <td>4</td>\n",
       "      <td>3</td>\n",
       "      <td>4</td>\n",
       "      <td>4</td>\n",
       "    </tr>\n",
       "    <tr>\n",
       "      <th>2</th>\n",
       "      <td>Urban</td>\n",
       "      <td>4</td>\n",
       "      <td>50</td>\n",
       "      <td>9609.57</td>\n",
       "      <td>Widowed</td>\n",
       "      <td>Female</td>\n",
       "      <td>No</td>\n",
       "      <td>10.752800</td>\n",
       "      <td>9</td>\n",
       "      <td>0</td>\n",
       "      <td>...</td>\n",
       "      <td>159.947583</td>\n",
       "      <td>2054.706961</td>\n",
       "      <td>4</td>\n",
       "      <td>4</td>\n",
       "      <td>2</td>\n",
       "      <td>4</td>\n",
       "      <td>4</td>\n",
       "      <td>3</td>\n",
       "      <td>3</td>\n",
       "      <td>3</td>\n",
       "    </tr>\n",
       "    <tr>\n",
       "      <th>3</th>\n",
       "      <td>Suburban</td>\n",
       "      <td>1</td>\n",
       "      <td>48</td>\n",
       "      <td>18925.23</td>\n",
       "      <td>Married</td>\n",
       "      <td>Male</td>\n",
       "      <td>No</td>\n",
       "      <td>14.913540</td>\n",
       "      <td>15</td>\n",
       "      <td>2</td>\n",
       "      <td>...</td>\n",
       "      <td>119.956840</td>\n",
       "      <td>2164.579412</td>\n",
       "      <td>4</td>\n",
       "      <td>4</td>\n",
       "      <td>4</td>\n",
       "      <td>2</td>\n",
       "      <td>5</td>\n",
       "      <td>4</td>\n",
       "      <td>3</td>\n",
       "      <td>3</td>\n",
       "    </tr>\n",
       "    <tr>\n",
       "      <th>4</th>\n",
       "      <td>Suburban</td>\n",
       "      <td>0</td>\n",
       "      <td>83</td>\n",
       "      <td>40074.19</td>\n",
       "      <td>Separated</td>\n",
       "      <td>Male</td>\n",
       "      <td>Yes</td>\n",
       "      <td>8.147417</td>\n",
       "      <td>16</td>\n",
       "      <td>2</td>\n",
       "      <td>...</td>\n",
       "      <td>149.948316</td>\n",
       "      <td>271.493436</td>\n",
       "      <td>4</td>\n",
       "      <td>4</td>\n",
       "      <td>4</td>\n",
       "      <td>3</td>\n",
       "      <td>4</td>\n",
       "      <td>4</td>\n",
       "      <td>4</td>\n",
       "      <td>5</td>\n",
       "    </tr>\n",
       "  </tbody>\n",
       "</table>\n",
       "<p>5 rows × 37 columns</p>\n",
       "</div>"
      ],
      "text/plain": [
       "       Area  Children  Age    Income    Marital  Gender Churn  \\\n",
       "0     Urban         0   68  28561.99    Widowed    Male    No   \n",
       "1     Urban         1   27  21704.77    Married  Female   Yes   \n",
       "2     Urban         4   50   9609.57    Widowed  Female    No   \n",
       "3  Suburban         1   48  18925.23    Married    Male    No   \n",
       "4  Suburban         0   83  40074.19  Separated    Male   Yes   \n",
       "\n",
       "   Outage_sec_perweek  Email  Contacts  ...  MonthlyCharge Bandwidth_GB_Year  \\\n",
       "0            7.978323     10         0  ...     172.455519        904.536110   \n",
       "1           11.699080     12         0  ...     242.632554        800.982766   \n",
       "2           10.752800      9         0  ...     159.947583       2054.706961   \n",
       "3           14.913540     15         2  ...     119.956840       2164.579412   \n",
       "4            8.147417     16         2  ...     149.948316        271.493436   \n",
       "\n",
       "  Item1 Item2 Item3 Item4 Item5 Item6 Item7 Item8  \n",
       "0     5     5     5     3     4     4     3     4  \n",
       "1     3     4     3     3     4     3     4     4  \n",
       "2     4     4     2     4     4     3     3     3  \n",
       "3     4     4     4     2     5     4     3     3  \n",
       "4     4     4     4     3     4     4     4     5  \n",
       "\n",
       "[5 rows x 37 columns]"
      ]
     },
     "execution_count": 14,
     "metadata": {},
     "output_type": "execute_result"
    }
   ],
   "source": [
    "# Rename the clean data set.\n",
    "clean = raw_wo_outliers.copy()\n",
    "clean.head()"
   ]
  },
  {
   "cell_type": "markdown",
   "id": "5c14c101",
   "metadata": {},
   "source": [
    "### Data Exploration"
   ]
  },
  {
   "cell_type": "code",
   "execution_count": 15,
   "id": "97f6cdca",
   "metadata": {},
   "outputs": [
    {
     "data": {
      "text/html": [
       "<div>\n",
       "<style scoped>\n",
       "    .dataframe tbody tr th:only-of-type {\n",
       "        vertical-align: middle;\n",
       "    }\n",
       "\n",
       "    .dataframe tbody tr th {\n",
       "        vertical-align: top;\n",
       "    }\n",
       "\n",
       "    .dataframe thead th {\n",
       "        text-align: right;\n",
       "    }\n",
       "</style>\n",
       "<table border=\"1\" class=\"dataframe\">\n",
       "  <thead>\n",
       "    <tr style=\"text-align: right;\">\n",
       "      <th></th>\n",
       "      <th>Children</th>\n",
       "      <th>Age</th>\n",
       "      <th>Income</th>\n",
       "      <th>Outage_sec_perweek</th>\n",
       "      <th>Email</th>\n",
       "      <th>Contacts</th>\n",
       "      <th>Yearly_equip_failure</th>\n",
       "      <th>Tenure</th>\n",
       "      <th>MonthlyCharge</th>\n",
       "      <th>Bandwidth_GB_Year</th>\n",
       "      <th>Item1</th>\n",
       "      <th>Item2</th>\n",
       "      <th>Item3</th>\n",
       "      <th>Item4</th>\n",
       "      <th>Item5</th>\n",
       "      <th>Item6</th>\n",
       "      <th>Item7</th>\n",
       "      <th>Item8</th>\n",
       "    </tr>\n",
       "  </thead>\n",
       "  <tbody>\n",
       "    <tr>\n",
       "      <th>count</th>\n",
       "      <td>9291.000000</td>\n",
       "      <td>9291.000000</td>\n",
       "      <td>9291.000000</td>\n",
       "      <td>9291.000000</td>\n",
       "      <td>9291.000000</td>\n",
       "      <td>9291.000000</td>\n",
       "      <td>9291.000000</td>\n",
       "      <td>9291.000000</td>\n",
       "      <td>9291.000000</td>\n",
       "      <td>9291.000000</td>\n",
       "      <td>9291.000000</td>\n",
       "      <td>9291.000000</td>\n",
       "      <td>9291.000000</td>\n",
       "      <td>9291.000000</td>\n",
       "      <td>9291.000000</td>\n",
       "      <td>9291.000000</td>\n",
       "      <td>9291.000000</td>\n",
       "      <td>9291.000000</td>\n",
       "    </tr>\n",
       "    <tr>\n",
       "      <th>mean</th>\n",
       "      <td>1.942956</td>\n",
       "      <td>53.050802</td>\n",
       "      <td>38300.237547</td>\n",
       "      <td>10.012702</td>\n",
       "      <td>12.028845</td>\n",
       "      <td>0.940157</td>\n",
       "      <td>0.373695</td>\n",
       "      <td>34.484503</td>\n",
       "      <td>172.719055</td>\n",
       "      <td>3384.786384</td>\n",
       "      <td>3.474007</td>\n",
       "      <td>3.492412</td>\n",
       "      <td>3.475406</td>\n",
       "      <td>3.493381</td>\n",
       "      <td>3.493919</td>\n",
       "      <td>3.484447</td>\n",
       "      <td>3.498009</td>\n",
       "      <td>3.483371</td>\n",
       "    </tr>\n",
       "    <tr>\n",
       "      <th>std</th>\n",
       "      <td>1.897303</td>\n",
       "      <td>20.656413</td>\n",
       "      <td>25078.121275</td>\n",
       "      <td>2.927481</td>\n",
       "      <td>3.006671</td>\n",
       "      <td>0.898553</td>\n",
       "      <td>0.581240</td>\n",
       "      <td>26.448396</td>\n",
       "      <td>42.974055</td>\n",
       "      <td>2185.799352</td>\n",
       "      <td>1.016149</td>\n",
       "      <td>1.021102</td>\n",
       "      <td>1.015548</td>\n",
       "      <td>1.020160</td>\n",
       "      <td>1.014768</td>\n",
       "      <td>1.020906</td>\n",
       "      <td>1.019335</td>\n",
       "      <td>1.017933</td>\n",
       "    </tr>\n",
       "    <tr>\n",
       "      <th>min</th>\n",
       "      <td>0.000000</td>\n",
       "      <td>18.000000</td>\n",
       "      <td>348.670000</td>\n",
       "      <td>1.144796</td>\n",
       "      <td>3.000000</td>\n",
       "      <td>0.000000</td>\n",
       "      <td>0.000000</td>\n",
       "      <td>1.005104</td>\n",
       "      <td>79.978860</td>\n",
       "      <td>155.506715</td>\n",
       "      <td>1.000000</td>\n",
       "      <td>1.000000</td>\n",
       "      <td>1.000000</td>\n",
       "      <td>1.000000</td>\n",
       "      <td>1.000000</td>\n",
       "      <td>1.000000</td>\n",
       "      <td>1.000000</td>\n",
       "      <td>1.000000</td>\n",
       "    </tr>\n",
       "    <tr>\n",
       "      <th>25%</th>\n",
       "      <td>0.000000</td>\n",
       "      <td>35.000000</td>\n",
       "      <td>19034.290000</td>\n",
       "      <td>8.036331</td>\n",
       "      <td>10.000000</td>\n",
       "      <td>0.000000</td>\n",
       "      <td>0.000000</td>\n",
       "      <td>7.897041</td>\n",
       "      <td>139.979200</td>\n",
       "      <td>1229.604769</td>\n",
       "      <td>3.000000</td>\n",
       "      <td>3.000000</td>\n",
       "      <td>3.000000</td>\n",
       "      <td>3.000000</td>\n",
       "      <td>3.000000</td>\n",
       "      <td>3.000000</td>\n",
       "      <td>3.000000</td>\n",
       "      <td>3.000000</td>\n",
       "    </tr>\n",
       "    <tr>\n",
       "      <th>50%</th>\n",
       "      <td>1.000000</td>\n",
       "      <td>53.000000</td>\n",
       "      <td>32765.970000</td>\n",
       "      <td>10.022980</td>\n",
       "      <td>12.000000</td>\n",
       "      <td>1.000000</td>\n",
       "      <td>0.000000</td>\n",
       "      <td>32.976930</td>\n",
       "      <td>169.937800</td>\n",
       "      <td>3249.417944</td>\n",
       "      <td>3.000000</td>\n",
       "      <td>3.000000</td>\n",
       "      <td>3.000000</td>\n",
       "      <td>3.000000</td>\n",
       "      <td>3.000000</td>\n",
       "      <td>3.000000</td>\n",
       "      <td>3.000000</td>\n",
       "      <td>3.000000</td>\n",
       "    </tr>\n",
       "    <tr>\n",
       "      <th>75%</th>\n",
       "      <td>3.000000</td>\n",
       "      <td>71.000000</td>\n",
       "      <td>52274.855000</td>\n",
       "      <td>11.975030</td>\n",
       "      <td>14.000000</td>\n",
       "      <td>2.000000</td>\n",
       "      <td>1.000000</td>\n",
       "      <td>61.431790</td>\n",
       "      <td>202.443300</td>\n",
       "      <td>5581.373212</td>\n",
       "      <td>4.000000</td>\n",
       "      <td>4.000000</td>\n",
       "      <td>4.000000</td>\n",
       "      <td>4.000000</td>\n",
       "      <td>4.000000</td>\n",
       "      <td>4.000000</td>\n",
       "      <td>4.000000</td>\n",
       "      <td>4.000000</td>\n",
       "    </tr>\n",
       "    <tr>\n",
       "      <th>max</th>\n",
       "      <td>8.000000</td>\n",
       "      <td>89.000000</td>\n",
       "      <td>124025.100000</td>\n",
       "      <td>18.851730</td>\n",
       "      <td>21.000000</td>\n",
       "      <td>3.000000</td>\n",
       "      <td>2.000000</td>\n",
       "      <td>71.999280</td>\n",
       "      <td>290.160419</td>\n",
       "      <td>7158.981530</td>\n",
       "      <td>6.000000</td>\n",
       "      <td>6.000000</td>\n",
       "      <td>6.000000</td>\n",
       "      <td>6.000000</td>\n",
       "      <td>6.000000</td>\n",
       "      <td>6.000000</td>\n",
       "      <td>6.000000</td>\n",
       "      <td>6.000000</td>\n",
       "    </tr>\n",
       "  </tbody>\n",
       "</table>\n",
       "</div>"
      ],
      "text/plain": [
       "          Children          Age         Income  Outage_sec_perweek  \\\n",
       "count  9291.000000  9291.000000    9291.000000         9291.000000   \n",
       "mean      1.942956    53.050802   38300.237547           10.012702   \n",
       "std       1.897303    20.656413   25078.121275            2.927481   \n",
       "min       0.000000    18.000000     348.670000            1.144796   \n",
       "25%       0.000000    35.000000   19034.290000            8.036331   \n",
       "50%       1.000000    53.000000   32765.970000           10.022980   \n",
       "75%       3.000000    71.000000   52274.855000           11.975030   \n",
       "max       8.000000    89.000000  124025.100000           18.851730   \n",
       "\n",
       "             Email     Contacts  Yearly_equip_failure       Tenure  \\\n",
       "count  9291.000000  9291.000000           9291.000000  9291.000000   \n",
       "mean     12.028845     0.940157              0.373695    34.484503   \n",
       "std       3.006671     0.898553              0.581240    26.448396   \n",
       "min       3.000000     0.000000              0.000000     1.005104   \n",
       "25%      10.000000     0.000000              0.000000     7.897041   \n",
       "50%      12.000000     1.000000              0.000000    32.976930   \n",
       "75%      14.000000     2.000000              1.000000    61.431790   \n",
       "max      21.000000     3.000000              2.000000    71.999280   \n",
       "\n",
       "       MonthlyCharge  Bandwidth_GB_Year        Item1        Item2  \\\n",
       "count    9291.000000        9291.000000  9291.000000  9291.000000   \n",
       "mean      172.719055        3384.786384     3.474007     3.492412   \n",
       "std        42.974055        2185.799352     1.016149     1.021102   \n",
       "min        79.978860         155.506715     1.000000     1.000000   \n",
       "25%       139.979200        1229.604769     3.000000     3.000000   \n",
       "50%       169.937800        3249.417944     3.000000     3.000000   \n",
       "75%       202.443300        5581.373212     4.000000     4.000000   \n",
       "max       290.160419        7158.981530     6.000000     6.000000   \n",
       "\n",
       "             Item3        Item4        Item5        Item6        Item7  \\\n",
       "count  9291.000000  9291.000000  9291.000000  9291.000000  9291.000000   \n",
       "mean      3.475406     3.493381     3.493919     3.484447     3.498009   \n",
       "std       1.015548     1.020160     1.014768     1.020906     1.019335   \n",
       "min       1.000000     1.000000     1.000000     1.000000     1.000000   \n",
       "25%       3.000000     3.000000     3.000000     3.000000     3.000000   \n",
       "50%       3.000000     3.000000     3.000000     3.000000     3.000000   \n",
       "75%       4.000000     4.000000     4.000000     4.000000     4.000000   \n",
       "max       6.000000     6.000000     6.000000     6.000000     6.000000   \n",
       "\n",
       "             Item8  \n",
       "count  9291.000000  \n",
       "mean      3.483371  \n",
       "std       1.017933  \n",
       "min       1.000000  \n",
       "25%       3.000000  \n",
       "50%       3.000000  \n",
       "75%       4.000000  \n",
       "max       6.000000  "
      ]
     },
     "execution_count": 15,
     "metadata": {},
     "output_type": "execute_result"
    }
   ],
   "source": [
    "# Variable statistics of the numerical data.\n",
    "clean.describe()"
   ]
  },
  {
   "cell_type": "code",
   "execution_count": 16,
   "id": "daf5aaa3",
   "metadata": {},
   "outputs": [
    {
     "name": "stdout",
     "output_type": "stream",
     "text": [
      "<class 'pandas.core.frame.DataFrame'>\n",
      "<class 'pandas.core.series.Series'>\n"
     ]
    }
   ],
   "source": [
    "# Define the target and features.\n",
    "target = 'Churn'\n",
    "X = clean.drop(columns=[target])\n",
    "y = clean[target]\n",
    "print(type(X))\n",
    "print(type(y))"
   ]
  },
  {
   "cell_type": "code",
   "execution_count": 17,
   "id": "0b2301ef",
   "metadata": {},
   "outputs": [
    {
     "name": "stdout",
     "output_type": "stream",
     "text": [
      "Index(['Area', 'Marital', 'Gender', 'Techie', 'Contract', 'Port_modem',\n",
      "       'Tablet', 'InternetService', 'Phone', 'Multiple', 'OnlineSecurity',\n",
      "       'OnlineBackup', 'DeviceProtection', 'TechSupport', 'StreamingTV',\n",
      "       'StreamingMovies', 'PaperlessBilling', 'PaymentMethod'],\n",
      "      dtype='object')\n"
     ]
    }
   ],
   "source": [
    "# Define the categorical features.\n",
    "cat_features = X.select_dtypes(include=['object']).columns\n",
    "print(cat_features)"
   ]
  },
  {
   "cell_type": "code",
   "execution_count": 18,
   "id": "fb4a47bb",
   "metadata": {},
   "outputs": [
    {
     "name": "stdout",
     "output_type": "stream",
     "text": [
      "Index(['Children', 'Age', 'Income', 'Outage_sec_perweek', 'Email', 'Contacts',\n",
      "       'Yearly_equip_failure', 'Tenure', 'MonthlyCharge', 'Bandwidth_GB_Year',\n",
      "       'Item1', 'Item2', 'Item3', 'Item4', 'Item5', 'Item6', 'Item7', 'Item8'],\n",
      "      dtype='object')\n"
     ]
    }
   ],
   "source": [
    "# Define the numerical features.\n",
    "num_features = X.select_dtypes(exclude=['object']).columns\n",
    "print(num_features)"
   ]
  },
  {
   "cell_type": "markdown",
   "id": "fea00384",
   "metadata": {},
   "source": [
    "### Data Wrangling"
   ]
  },
  {
   "cell_type": "code",
   "execution_count": 19,
   "id": "1093b593",
   "metadata": {},
   "outputs": [
    {
     "name": "stdout",
     "output_type": "stream",
     "text": [
      "Label encoder Area - values: ['Rural', 'Suburban', 'Urban']\n",
      "Label encoder Marital - values: ['Divorced', 'Married', 'Never Married', 'Separated', 'Widowed']\n",
      "Label encoder Gender - values: ['Female', 'Male', 'Nonbinary']\n",
      "Label encoder Techie - values: ['No', 'Yes']\n",
      "Label encoder Contract - values: ['Month-to-month', 'One year', 'Two Year']\n",
      "Label encoder Port_modem - values: ['No', 'Yes']\n",
      "Label encoder Tablet - values: ['No', 'Yes']\n",
      "Label encoder InternetService - values: ['DSL', 'Fiber Optic', 'None']\n",
      "Label encoder Phone - values: ['No', 'Yes']\n",
      "Label encoder Multiple - values: ['No', 'Yes']\n",
      "Label encoder OnlineSecurity - values: ['No', 'Yes']\n",
      "Label encoder OnlineBackup - values: ['No', 'Yes']\n",
      "Label encoder DeviceProtection - values: ['No', 'Yes']\n",
      "Label encoder TechSupport - values: ['No', 'Yes']\n",
      "Label encoder StreamingTV - values: ['No', 'Yes']\n",
      "Label encoder StreamingMovies - values: ['No', 'Yes']\n",
      "Label encoder PaperlessBilling - values: ['No', 'Yes']\n",
      "Label encoder PaymentMethod - values: ['Bank Transfer(automatic)', 'Credit Card (automatic)', 'Electronic Check', 'Mailed Check']\n"
     ]
    }
   ],
   "source": [
    "# Convert categorical features.\n",
    "\n",
    "from sklearn.preprocessing import LabelEncoder\n",
    "categorical_feature_names = []\n",
    "label_encoders = {}\n",
    "for categorical in cat_features:\n",
    "    label_encoders[categorical] = LabelEncoder()\n",
    "    clean[categorical] = label_encoders[categorical].fit_transform(clean[categorical])\n",
    "    names = label_encoders[categorical].classes_.tolist()\n",
    "    print('Label encoder %s - values: %s' % (categorical, names))\n",
    "    if categorical == target:\n",
    "        continue\n",
    "    categorical_feature_names.extend([categorical + '_' + str(name) for name in names])"
   ]
  },
  {
   "cell_type": "code",
   "execution_count": 20,
   "id": "9522354c",
   "metadata": {},
   "outputs": [
    {
     "name": "stdout",
     "output_type": "stream",
     "text": [
      "['Area_Rural', 'Area_Suburban', 'Area_Urban', 'Marital_Divorced', 'Marital_Married', 'Marital_Never Married', 'Marital_Separated', 'Marital_Widowed', 'Gender_Female', 'Gender_Male', 'Gender_Nonbinary', 'Techie_No', 'Techie_Yes', 'Contract_Month-to-month', 'Contract_One year', 'Contract_Two Year', 'Port_modem_No', 'Port_modem_Yes', 'Tablet_No', 'Tablet_Yes', 'InternetService_DSL', 'InternetService_Fiber Optic', 'InternetService_None', 'Phone_No', 'Phone_Yes', 'Multiple_No', 'Multiple_Yes', 'OnlineSecurity_No', 'OnlineSecurity_Yes', 'OnlineBackup_No', 'OnlineBackup_Yes', 'DeviceProtection_No', 'DeviceProtection_Yes', 'TechSupport_No', 'TechSupport_Yes', 'StreamingTV_No', 'StreamingTV_Yes', 'StreamingMovies_No', 'StreamingMovies_Yes', 'PaperlessBilling_No', 'PaperlessBilling_Yes', 'PaymentMethod_Bank Transfer(automatic)', 'PaymentMethod_Credit Card (automatic)', 'PaymentMethod_Electronic Check', 'PaymentMethod_Mailed Check']\n",
      "{'Area': LabelEncoder(), 'Marital': LabelEncoder(), 'Gender': LabelEncoder(), 'Techie': LabelEncoder(), 'Contract': LabelEncoder(), 'Port_modem': LabelEncoder(), 'Tablet': LabelEncoder(), 'InternetService': LabelEncoder(), 'Phone': LabelEncoder(), 'Multiple': LabelEncoder(), 'OnlineSecurity': LabelEncoder(), 'OnlineBackup': LabelEncoder(), 'DeviceProtection': LabelEncoder(), 'TechSupport': LabelEncoder(), 'StreamingTV': LabelEncoder(), 'StreamingMovies': LabelEncoder(), 'PaperlessBilling': LabelEncoder(), 'PaymentMethod': LabelEncoder()}\n"
     ]
    }
   ],
   "source": [
    "# View categorial features after transformation.\n",
    "print(categorical_feature_names)\n",
    "print(label_encoders)"
   ]
  },
  {
   "cell_type": "markdown",
   "id": "392fb639",
   "metadata": {},
   "source": [
    "### Export Data"
   ]
  },
  {
   "cell_type": "code",
   "execution_count": 21,
   "id": "75910462",
   "metadata": {},
   "outputs": [],
   "source": [
    "# Export the cleaned data set to a CSV file. \n",
    "clean.to_csv('209clean_task2.csv')"
   ]
  },
  {
   "cell_type": "markdown",
   "id": "56f6c1f1",
   "metadata": {},
   "source": [
    "### Analysis"
   ]
  },
  {
   "cell_type": "markdown",
   "id": "451ad4e9",
   "metadata": {},
   "source": [
    "#### Training and testing split of the data."
   ]
  },
  {
   "cell_type": "code",
   "execution_count": 22,
   "id": "be1ef8ec",
   "metadata": {},
   "outputs": [],
   "source": [
    "# Define the primary features and target variable.\n",
    "\n",
    "target= 'Churn' \n",
    "X = clean.loc[:, clean.columns != target]\n",
    "y = clean.loc[:, clean.columns == target]"
   ]
  },
  {
   "cell_type": "code",
   "execution_count": 23,
   "id": "ba0faf05",
   "metadata": {},
   "outputs": [
    {
     "name": "stdout",
     "output_type": "stream",
     "text": [
      "X_train: (6503, 36)\n",
      "y_train: (6503, 1)\n",
      "X_test: (2788, 36)\n",
      "y_test: (2788, 1)\n"
     ]
    }
   ],
   "source": [
    "# Train / test split the raw data.\n",
    "\n",
    "tts = train_test_split(X, y, test_size=0.3, random_state=13)\n",
    "(X_train, X_test, y_train, y_test)=tts\n",
    "print('X_train: {}'.format(X_train.shape))\n",
    "print('y_train: {}'.format(y_train.shape))\n",
    "print('X_test: {}'.format(X_test.shape))\n",
    "print('y_test: {}'.format(y_test.shape))"
   ]
  },
  {
   "cell_type": "code",
   "execution_count": 24,
   "id": "04a7c67e",
   "metadata": {},
   "outputs": [],
   "source": [
    "# Label the training data and export a copy to a CSV file.\n",
    "\n",
    "trainData = X_train.merge(y_train, \n",
    "        left_index=True, right_index=True)\n",
    "trainData.to_csv('209trainData_task2.csv')"
   ]
  },
  {
   "cell_type": "code",
   "execution_count": 25,
   "id": "c44212fe",
   "metadata": {},
   "outputs": [],
   "source": [
    "# Label the test data and export a copy to a CSV file.\n",
    "\n",
    "testData = X_test.merge(y_test, \n",
    "        left_index=True, right_index=True)\n",
    "testData.to_csv('209testData_task2.csv')"
   ]
  },
  {
   "cell_type": "markdown",
   "id": "8808ae3a",
   "metadata": {},
   "source": [
    "#### Predictive Analysis"
   ]
  },
  {
   "cell_type": "code",
   "execution_count": 26,
   "id": "eab8b88f",
   "metadata": {},
   "outputs": [
    {
     "data": {
      "text/html": [
       "<style>#sk-container-id-1 {color: black;background-color: white;}#sk-container-id-1 pre{padding: 0;}#sk-container-id-1 div.sk-toggleable {background-color: white;}#sk-container-id-1 label.sk-toggleable__label {cursor: pointer;display: block;width: 100%;margin-bottom: 0;padding: 0.3em;box-sizing: border-box;text-align: center;}#sk-container-id-1 label.sk-toggleable__label-arrow:before {content: \"▸\";float: left;margin-right: 0.25em;color: #696969;}#sk-container-id-1 label.sk-toggleable__label-arrow:hover:before {color: black;}#sk-container-id-1 div.sk-estimator:hover label.sk-toggleable__label-arrow:before {color: black;}#sk-container-id-1 div.sk-toggleable__content {max-height: 0;max-width: 0;overflow: hidden;text-align: left;background-color: #f0f8ff;}#sk-container-id-1 div.sk-toggleable__content pre {margin: 0.2em;color: black;border-radius: 0.25em;background-color: #f0f8ff;}#sk-container-id-1 input.sk-toggleable__control:checked~div.sk-toggleable__content {max-height: 200px;max-width: 100%;overflow: auto;}#sk-container-id-1 input.sk-toggleable__control:checked~label.sk-toggleable__label-arrow:before {content: \"▾\";}#sk-container-id-1 div.sk-estimator input.sk-toggleable__control:checked~label.sk-toggleable__label {background-color: #d4ebff;}#sk-container-id-1 div.sk-label input.sk-toggleable__control:checked~label.sk-toggleable__label {background-color: #d4ebff;}#sk-container-id-1 input.sk-hidden--visually {border: 0;clip: rect(1px 1px 1px 1px);clip: rect(1px, 1px, 1px, 1px);height: 1px;margin: -1px;overflow: hidden;padding: 0;position: absolute;width: 1px;}#sk-container-id-1 div.sk-estimator {font-family: monospace;background-color: #f0f8ff;border: 1px dotted black;border-radius: 0.25em;box-sizing: border-box;margin-bottom: 0.5em;}#sk-container-id-1 div.sk-estimator:hover {background-color: #d4ebff;}#sk-container-id-1 div.sk-parallel-item::after {content: \"\";width: 100%;border-bottom: 1px solid gray;flex-grow: 1;}#sk-container-id-1 div.sk-label:hover label.sk-toggleable__label {background-color: #d4ebff;}#sk-container-id-1 div.sk-serial::before {content: \"\";position: absolute;border-left: 1px solid gray;box-sizing: border-box;top: 0;bottom: 0;left: 50%;z-index: 0;}#sk-container-id-1 div.sk-serial {display: flex;flex-direction: column;align-items: center;background-color: white;padding-right: 0.2em;padding-left: 0.2em;position: relative;}#sk-container-id-1 div.sk-item {position: relative;z-index: 1;}#sk-container-id-1 div.sk-parallel {display: flex;align-items: stretch;justify-content: center;background-color: white;position: relative;}#sk-container-id-1 div.sk-item::before, #sk-container-id-1 div.sk-parallel-item::before {content: \"\";position: absolute;border-left: 1px solid gray;box-sizing: border-box;top: 0;bottom: 0;left: 50%;z-index: -1;}#sk-container-id-1 div.sk-parallel-item {display: flex;flex-direction: column;z-index: 1;position: relative;background-color: white;}#sk-container-id-1 div.sk-parallel-item:first-child::after {align-self: flex-end;width: 50%;}#sk-container-id-1 div.sk-parallel-item:last-child::after {align-self: flex-start;width: 50%;}#sk-container-id-1 div.sk-parallel-item:only-child::after {width: 0;}#sk-container-id-1 div.sk-dashed-wrapped {border: 1px dashed gray;margin: 0 0.4em 0.5em 0.4em;box-sizing: border-box;padding-bottom: 0.4em;background-color: white;}#sk-container-id-1 div.sk-label label {font-family: monospace;font-weight: bold;display: inline-block;line-height: 1.2em;}#sk-container-id-1 div.sk-label-container {text-align: center;}#sk-container-id-1 div.sk-container {/* jupyter's `normalize.less` sets `[hidden] { display: none; }` but bootstrap.min.css set `[hidden] { display: none !important; }` so we also need the `!important` here to be able to override the default hidden behavior on the sphinx rendered scikit-learn.org. See: https://github.com/scikit-learn/scikit-learn/issues/21755 */display: inline-block !important;position: relative;}#sk-container-id-1 div.sk-text-repr-fallback {display: none;}</style><div id=\"sk-container-id-1\" class=\"sk-top-container\"><div class=\"sk-text-repr-fallback\"><pre>DecisionTreeClassifier(max_depth=2, random_state=13)</pre><b>In a Jupyter environment, please rerun this cell to show the HTML representation or trust the notebook. <br />On GitHub, the HTML representation is unable to render, please try loading this page with nbviewer.org.</b></div><div class=\"sk-container\" hidden><div class=\"sk-item\"><div class=\"sk-estimator sk-toggleable\"><input class=\"sk-toggleable__control sk-hidden--visually\" id=\"sk-estimator-id-1\" type=\"checkbox\" checked><label for=\"sk-estimator-id-1\" class=\"sk-toggleable__label sk-toggleable__label-arrow\">DecisionTreeClassifier</label><div class=\"sk-toggleable__content\"><pre>DecisionTreeClassifier(max_depth=2, random_state=13)</pre></div></div></div></div></div>"
      ],
      "text/plain": [
       "DecisionTreeClassifier(max_depth=2, random_state=13)"
      ]
     },
     "execution_count": 26,
     "metadata": {},
     "output_type": "execute_result"
    }
   ],
   "source": [
    "# Model Creation\n",
    "dt = DecisionTreeClassifier(max_depth=2, random_state=13)\n",
    "dt.fit(X_train, y_train)"
   ]
  },
  {
   "cell_type": "code",
   "execution_count": 27,
   "id": "05f6c8d9",
   "metadata": {},
   "outputs": [
    {
     "name": "stdout",
     "output_type": "stream",
     "text": [
      "Target: [Churn: No, Yes]\n"
     ]
    },
    {
     "data": {
      "image/png": "[encoded data removed]",
      "text/plain": [
       "<IPython.core.display.Image object>"
      ]
     },
     "execution_count": 27,
     "metadata": {},
     "output_type": "execute_result"
    }
   ],
   "source": [
    "# Classification Tree\n",
    "print('Target: [{}: {}]'.format(target, ', '.join(dt.classes_)))\n",
    "plotDecisionTree(dt, feature_names=X_train.columns.to_list(),\n",
    "            class_names=dt.classes_)"
   ]
  },
  {
   "cell_type": "code",
   "execution_count": 28,
   "id": "24990e61",
   "metadata": {},
   "outputs": [
    {
     "data": {
      "text/plain": [
       "Text(0.5, 1.0, 'DECISION BOUNDARIES')"
      ]
     },
     "execution_count": 28,
     "metadata": {},
     "output_type": "execute_result"
    }
   ],
   "source": [
    "# Plot the decision boundaries.\n",
    "fig, ax = plt.subplots()\n",
    "fig.set_size_inches(8, 5)\n",
    "\n",
    "# Define the plot variables.\n",
    "x = 'Tenure'\n",
    "y='MonthlyCharge'\n",
    "title = 'Decision Boundaries'\n",
    "\n",
    "sns.scatterplot(x=x, y=y,\n",
    "    palette=['darkorange','blue'], hue=target,\n",
    "    data=y_train.merge(X_train, left_index=True, right_index=True))\n",
    "ax.axvline(x=27.659)\n",
    "ax.hlines(y=174.977, xmin=-1, xmax=27.659) # horizontal line segment\n",
    "ax.hlines(y=207.624, xmin=27.659, xmax=74) # horizontal line segment\n",
    "\n",
    "ax.set_title(title.upper(), fontsize=16)"
   ]
  },
  {
   "cell_type": "code",
   "execution_count": 29,
   "id": "6e3aa298",
   "metadata": {},
   "outputs": [
    {
     "name": "stdout",
     "output_type": "stream",
     "text": [
      "Confusion Matrix (Accuracy 0.8352)\n",
      "\n",
      "       Prediction\n",
      "Actual    0    1\n",
      "     0 4569  224\n",
      "     1  848  862\n"
     ]
    }
   ],
   "source": [
    "# Training summary.\n",
    "classificationSummary(y_train, dt.predict(X_train))"
   ]
  },
  {
   "cell_type": "code",
   "execution_count": 30,
   "id": "05f15567",
   "metadata": {},
   "outputs": [
    {
     "name": "stdout",
     "output_type": "stream",
     "text": [
      "Confusion Matrix (Accuracy 0.8250)\n",
      "\n",
      "       Prediction\n",
      "Actual    0    1\n",
      "     0 1931  100\n",
      "     1  388  369\n"
     ]
    }
   ],
   "source": [
    "# Test summary.\n",
    "classificationSummary(y_test, dt.predict(X_test))"
   ]
  },
  {
   "cell_type": "code",
   "execution_count": null,
   "id": "d4b34a79",
   "metadata": {},
   "outputs": [],
   "source": []
  }
 ],
 "metadata": {
  "kernelspec": {
   "display_name": "Python 3.8.9 64-bit",
   "language": "python",
   "name": "python389jvsc74a57bd031f2aee4e71d21fbe5cf8b01ff0e069b9275f58929596ceb00d14d90e3e16cd6"
  },
  "language_info": {
   "codemirror_mode": {
    "name": "ipython",
    "version": 3
   },
   "file_extension": ".py",
   "mimetype": "text/x-python",
   "name": "python",
   "nbconvert_exporter": "python",
   "pygments_lexer": "ipython3",
   "version": "3.8.9"
  }
 },
 "nbformat": 4,
 "nbformat_minor": 5
}
